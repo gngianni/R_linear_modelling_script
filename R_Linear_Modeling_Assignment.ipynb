{
 "cells": [
  {
   "cell_type": "markdown",
   "id": "95c06ad6-3eb6-438a-9c12-0c4a9601521d",
   "metadata": {},
   "source": [
    "# R Linear Modeling Assignment \n",
    "## BSGP 7030 "
   ]
  },
  {
   "cell_type": "markdown",
   "id": "67a98b00-f542-4308-b514-e574dd0b830f",
   "metadata": {},
   "source": [
    "# Import ggplot"
   ]
  },
  {
   "cell_type": "code",
   "execution_count": 24,
   "id": "e30736da-4f17-4528-a67c-dab73f279931",
   "metadata": {
    "tags": []
   },
   "outputs": [],
   "source": [
    "library(ggplot2)"
   ]
  },
  {
   "cell_type": "markdown",
   "id": "7990ba7c-d824-47a4-8565-dac4fe445a59",
   "metadata": {},
   "source": [
    "# Import the dataset from regrex1.csv using read.csv"
   ]
  },
  {
   "cell_type": "code",
   "execution_count": 1,
   "id": "7f10f7d1-d474-4eab-b0f9-096972e31d19",
   "metadata": {
    "tags": []
   },
   "outputs": [],
   "source": [
    "filename = 'regrex1.csv'"
   ]
  },
  {
   "cell_type": "code",
   "execution_count": 2,
   "id": "473ecac6-b3f2-4e74-b6c7-7b4c60adf530",
   "metadata": {
    "tags": []
   },
   "outputs": [],
   "source": [
    "dataset = read.csv(filename)"
   ]
  },
  {
   "cell_type": "markdown",
   "id": "9814330e-7c3c-461f-922b-f022fb8d2708",
   "metadata": {},
   "source": [
    "### print out dataset to ensure that it was read properly "
   ]
  },
  {
   "cell_type": "code",
   "execution_count": 3,
   "id": "bba29b3c-7fe9-4da7-9460-715e93229887",
   "metadata": {
    "tags": []
   },
   "outputs": [
    {
     "data": {
      "text/html": [
       "<table class=\"dataframe\">\n",
       "<caption>A data.frame: 30 × 2</caption>\n",
       "<thead>\n",
       "\t<tr><th scope=col>y</th><th scope=col>x</th></tr>\n",
       "\t<tr><th scope=col>&lt;dbl&gt;</th><th scope=col>&lt;dbl&gt;</th></tr>\n",
       "</thead>\n",
       "<tbody>\n",
       "\t<tr><td> 6.8102</td><td> 9.8492</td></tr>\n",
       "\t<tr><td> 9.8437</td><td>11.1450</td></tr>\n",
       "\t<tr><td> 4.9767</td><td> 5.1209</td></tr>\n",
       "\t<tr><td> 5.0006</td><td> 8.1085</td></tr>\n",
       "\t<tr><td> 3.5047</td><td> 3.5599</td></tr>\n",
       "\t<tr><td> 3.6419</td><td> 1.9883</td></tr>\n",
       "\t<tr><td> 7.8725</td><td>15.5322</td></tr>\n",
       "\t<tr><td> 5.1442</td><td> 7.5202</td></tr>\n",
       "\t<tr><td> 8.3883</td><td>14.0202</td></tr>\n",
       "\t<tr><td> 6.8204</td><td> 7.5226</td></tr>\n",
       "\t<tr><td> 9.0185</td><td>14.3272</td></tr>\n",
       "\t<tr><td> 2.6148</td><td> 3.8950</td></tr>\n",
       "\t<tr><td> 3.7367</td><td> 1.8707</td></tr>\n",
       "\t<tr><td> 2.8651</td><td> 0.8347</td></tr>\n",
       "\t<tr><td>10.7469</td><td>18.3413</td></tr>\n",
       "\t<tr><td> 2.3710</td><td> 1.6645</td></tr>\n",
       "\t<tr><td> 9.6653</td><td>17.0579</td></tr>\n",
       "\t<tr><td> 7.1926</td><td> 9.2375</td></tr>\n",
       "\t<tr><td>11.7833</td><td>21.0000</td></tr>\n",
       "\t<tr><td> 3.9537</td><td> 3.5286</td></tr>\n",
       "\t<tr><td>15.0000</td><td>25.0000</td></tr>\n",
       "\t<tr><td> 7.9152</td><td> 9.9008</td></tr>\n",
       "\t<tr><td> 9.3368</td><td>17.5990</td></tr>\n",
       "\t<tr><td> 8.7587</td><td>13.8790</td></tr>\n",
       "\t<tr><td> 6.7813</td><td>10.8690</td></tr>\n",
       "\t<tr><td> 7.9924</td><td>12.6238</td></tr>\n",
       "\t<tr><td> 2.2806</td><td> 0.9719</td></tr>\n",
       "\t<tr><td>10.4050</td><td>14.4814</td></tr>\n",
       "\t<tr><td> 3.7891</td><td> 2.1792</td></tr>\n",
       "\t<tr><td>10.9067</td><td>18.4052</td></tr>\n",
       "</tbody>\n",
       "</table>\n"
      ],
      "text/latex": [
       "A data.frame: 30 × 2\n",
       "\\begin{tabular}{ll}\n",
       " y & x\\\\\n",
       " <dbl> & <dbl>\\\\\n",
       "\\hline\n",
       "\t  6.8102 &  9.8492\\\\\n",
       "\t  9.8437 & 11.1450\\\\\n",
       "\t  4.9767 &  5.1209\\\\\n",
       "\t  5.0006 &  8.1085\\\\\n",
       "\t  3.5047 &  3.5599\\\\\n",
       "\t  3.6419 &  1.9883\\\\\n",
       "\t  7.8725 & 15.5322\\\\\n",
       "\t  5.1442 &  7.5202\\\\\n",
       "\t  8.3883 & 14.0202\\\\\n",
       "\t  6.8204 &  7.5226\\\\\n",
       "\t  9.0185 & 14.3272\\\\\n",
       "\t  2.6148 &  3.8950\\\\\n",
       "\t  3.7367 &  1.8707\\\\\n",
       "\t  2.8651 &  0.8347\\\\\n",
       "\t 10.7469 & 18.3413\\\\\n",
       "\t  2.3710 &  1.6645\\\\\n",
       "\t  9.6653 & 17.0579\\\\\n",
       "\t  7.1926 &  9.2375\\\\\n",
       "\t 11.7833 & 21.0000\\\\\n",
       "\t  3.9537 &  3.5286\\\\\n",
       "\t 15.0000 & 25.0000\\\\\n",
       "\t  7.9152 &  9.9008\\\\\n",
       "\t  9.3368 & 17.5990\\\\\n",
       "\t  8.7587 & 13.8790\\\\\n",
       "\t  6.7813 & 10.8690\\\\\n",
       "\t  7.9924 & 12.6238\\\\\n",
       "\t  2.2806 &  0.9719\\\\\n",
       "\t 10.4050 & 14.4814\\\\\n",
       "\t  3.7891 &  2.1792\\\\\n",
       "\t 10.9067 & 18.4052\\\\\n",
       "\\end{tabular}\n"
      ],
      "text/markdown": [
       "\n",
       "A data.frame: 30 × 2\n",
       "\n",
       "| y &lt;dbl&gt; | x &lt;dbl&gt; |\n",
       "|---|---|\n",
       "|  6.8102 |  9.8492 |\n",
       "|  9.8437 | 11.1450 |\n",
       "|  4.9767 |  5.1209 |\n",
       "|  5.0006 |  8.1085 |\n",
       "|  3.5047 |  3.5599 |\n",
       "|  3.6419 |  1.9883 |\n",
       "|  7.8725 | 15.5322 |\n",
       "|  5.1442 |  7.5202 |\n",
       "|  8.3883 | 14.0202 |\n",
       "|  6.8204 |  7.5226 |\n",
       "|  9.0185 | 14.3272 |\n",
       "|  2.6148 |  3.8950 |\n",
       "|  3.7367 |  1.8707 |\n",
       "|  2.8651 |  0.8347 |\n",
       "| 10.7469 | 18.3413 |\n",
       "|  2.3710 |  1.6645 |\n",
       "|  9.6653 | 17.0579 |\n",
       "|  7.1926 |  9.2375 |\n",
       "| 11.7833 | 21.0000 |\n",
       "|  3.9537 |  3.5286 |\n",
       "| 15.0000 | 25.0000 |\n",
       "|  7.9152 |  9.9008 |\n",
       "|  9.3368 | 17.5990 |\n",
       "|  8.7587 | 13.8790 |\n",
       "|  6.7813 | 10.8690 |\n",
       "|  7.9924 | 12.6238 |\n",
       "|  2.2806 |  0.9719 |\n",
       "| 10.4050 | 14.4814 |\n",
       "|  3.7891 |  2.1792 |\n",
       "| 10.9067 | 18.4052 |\n",
       "\n"
      ],
      "text/plain": [
       "   y       x      \n",
       "1   6.8102  9.8492\n",
       "2   9.8437 11.1450\n",
       "3   4.9767  5.1209\n",
       "4   5.0006  8.1085\n",
       "5   3.5047  3.5599\n",
       "6   3.6419  1.9883\n",
       "7   7.8725 15.5322\n",
       "8   5.1442  7.5202\n",
       "9   8.3883 14.0202\n",
       "10  6.8204  7.5226\n",
       "11  9.0185 14.3272\n",
       "12  2.6148  3.8950\n",
       "13  3.7367  1.8707\n",
       "14  2.8651  0.8347\n",
       "15 10.7469 18.3413\n",
       "16  2.3710  1.6645\n",
       "17  9.6653 17.0579\n",
       "18  7.1926  9.2375\n",
       "19 11.7833 21.0000\n",
       "20  3.9537  3.5286\n",
       "21 15.0000 25.0000\n",
       "22  7.9152  9.9008\n",
       "23  9.3368 17.5990\n",
       "24  8.7587 13.8790\n",
       "25  6.7813 10.8690\n",
       "26  7.9924 12.6238\n",
       "27  2.2806  0.9719\n",
       "28 10.4050 14.4814\n",
       "29  3.7891  2.1792\n",
       "30 10.9067 18.4052"
      ]
     },
     "metadata": {},
     "output_type": "display_data"
    }
   ],
   "source": [
    "dataset"
   ]
  },
  {
   "cell_type": "markdown",
   "id": "d4958986-9bd2-47d6-9962-569e30a706ee",
   "metadata": {},
   "source": [
    "# Fitting Linear Regression to the Dataset"
   ]
  },
  {
   "cell_type": "code",
   "execution_count": 4,
   "id": "f9ff609d-6531-4556-a4c2-9e2e97732672",
   "metadata": {
    "tags": []
   },
   "outputs": [],
   "source": [
    "model = lm(formula = y ~ x,\n",
    "               data = dataset)"
   ]
  },
  {
   "cell_type": "markdown",
   "id": "33e6aa2f-d48b-4566-b6cf-a52f233ef660",
   "metadata": {},
   "source": [
    "### Plotting the raw data"
   ]
  },
  {
   "cell_type": "code",
   "execution_count": 5,
   "id": "7d9e90f3-d228-4a4f-8c46-cb8965765d2c",
   "metadata": {
    "tags": []
   },
   "outputs": [
    {
     "data": {
      "image/png": "[encoded data removed]",
      "text/plain": [
       "plot without title"
      ]
     },
     "metadata": {
      "image/png": {
       "height": 420,
       "width": 420
      }
     },
     "output_type": "display_data"
    }
   ],
   "source": [
    "library(ggplot2)\n",
    "ggplot() +\n",
    "  geom_point(aes(x = dataset$x, y = dataset$y),\n",
    "             colour = 'dark red')"
   ]
  },
  {
   "cell_type": "markdown",
   "id": "70339b99-741d-4864-bb21-e4e627408ff2",
   "metadata": {},
   "source": [
    "### Visualize the Linear Regression using ggplot "
   ]
  },
  {
   "cell_type": "code",
   "execution_count": 7,
   "id": "a88bc831-5766-4e55-8c0e-8987d7d74650",
   "metadata": {
    "tags": []
   },
   "outputs": [
    {
     "data": {
      "text/html": [
       "<strong>png:</strong> 2"
      ],
      "text/latex": [
       "\\textbf{png:} 2"
      ],
      "text/markdown": [
       "**png:** 2"
      ],
      "text/plain": [
       "png \n",
       "  2 "
      ]
     },
     "metadata": {},
     "output_type": "display_data"
    }
   ],
   "source": [
    "png(\"file.png\")\n",
    "ggplot() +\n",
    "  geom_point(aes(x = dataset$x, y = dataset$y),\n",
    "             colour = 'dark red') +\n",
    "  geom_line(aes(x = dataset$x, y = predict(model, newdata = dataset)),\n",
    "            colour = 'blue') +\n",
    "  ggtitle('Regrex1 Linear Regression') +\n",
    "  xlab('x') +\n",
    "  ylab('y')\n",
    "dev.off()"
   ]
  },
  {
   "cell_type": "code",
   "execution_count": 8,
   "id": "a2af7c3e-13a4-4519-afef-f4cb4519f6f9",
   "metadata": {
    "tags": []
   },
   "outputs": [
    {
     "data": {
      "text/html": [
       "<style>\n",
       ".list-inline {list-style: none; margin:0; padding: 0}\n",
       ".list-inline>li {display: inline-block}\n",
       ".list-inline>li:not(:last-child)::after {content: \"\\00b7\"; padding: 0 .5ex}\n",
       "</style>\n",
       "<ol class=list-inline><li>'/srv/conda/envs/notebook/lib/R/bin/exec/R'</li><li>'--slave'</li><li>'-e'</li><li>'IRkernel::main()'</li><li>'--args'</li><li>'/home/jovyan/.local/share/jupyter/runtime/kernel-07c4166b-d8a2-4791-9278-7731a9faff54.json'</li></ol>\n"
      ],
      "text/latex": [
       "\\begin{enumerate*}\n",
       "\\item '/srv/conda/envs/notebook/lib/R/bin/exec/R'\n",
       "\\item '--slave'\n",
       "\\item '-e'\n",
       "\\item 'IRkernel::main()'\n",
       "\\item '--args'\n",
       "\\item '/home/jovyan/.local/share/jupyter/runtime/kernel-07c4166b-d8a2-4791-9278-7731a9faff54.json'\n",
       "\\end{enumerate*}\n"
      ],
      "text/markdown": [
       "1. '/srv/conda/envs/notebook/lib/R/bin/exec/R'\n",
       "2. '--slave'\n",
       "3. '-e'\n",
       "4. 'IRkernel::main()'\n",
       "5. '--args'\n",
       "6. '/home/jovyan/.local/share/jupyter/runtime/kernel-07c4166b-d8a2-4791-9278-7731a9faff54.json'\n",
       "\n",
       "\n"
      ],
      "text/plain": [
       "[1] \"/srv/conda/envs/notebook/lib/R/bin/exec/R\"                                                 \n",
       "[2] \"--slave\"                                                                                   \n",
       "[3] \"-e\"                                                                                        \n",
       "[4] \"IRkernel::main()\"                                                                          \n",
       "[5] \"--args\"                                                                                    \n",
       "[6] \"/home/jovyan/.local/share/jupyter/runtime/kernel-07c4166b-d8a2-4791-9278-7731a9faff54.json\""
      ]
     },
     "metadata": {},
     "output_type": "display_data"
    }
   ],
   "source": [
    "args = commandArgs()\n",
    "args"
   ]
  },
  {
   "cell_type": "code",
   "execution_count": 10,
   "id": "751159e6-1b70-41c8-ab70-a08d9998ab63",
   "metadata": {
    "tags": []
   },
   "outputs": [
    {
     "data": {
      "text/html": [
       "'/srv/conda/envs/notebook/lib/R/bin/exec/R'"
      ],
      "text/latex": [
       "'/srv/conda/envs/notebook/lib/R/bin/exec/R'"
      ],
      "text/markdown": [
       "'/srv/conda/envs/notebook/lib/R/bin/exec/R'"
      ],
      "text/plain": [
       "[1] \"/srv/conda/envs/notebook/lib/R/bin/exec/R\""
      ]
     },
     "metadata": {},
     "output_type": "display_data"
    }
   ],
   "source": [
    "args[1]"
   ]
  }
 ],
 "metadata": {
  "kernelspec": {
   "display_name": "R",
   "language": "R",
   "name": "ir"
  },
  "language_info": {
   "codemirror_mode": "r",
   "file_extension": ".r",
   "mimetype": "text/x-r-source",
   "name": "R",
   "pygments_lexer": "r",
   "version": "4.0.5"
  }
 },
 "nbformat": 4,
 "nbformat_minor": 5
}
